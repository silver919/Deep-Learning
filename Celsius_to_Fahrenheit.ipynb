{
  "nbformat": 4,
  "nbformat_minor": 0,
  "metadata": {
    "colab": {
      "name": "Celsius to Fahrenheit.ipynb",
      "provenance": []
    },
    "kernelspec": {
      "name": "python3",
      "display_name": "Python 3"
    },
    "language_info": {
      "name": "python"
    }
  },
  "cells": [
    {
      "cell_type": "code",
      "execution_count": 2,
      "metadata": {
        "id": "n_ovu942pW8l"
      },
      "outputs": [],
      "source": [
        "import tensorflow as tf\n",
        "import numpy as np\n",
        "import logging\n",
        "logger=tf.get_logger()\n",
        "logger.setLevel(logging.ERROR)"
      ]
    },
    {
      "cell_type": "markdown",
      "source": [
        "setting up training data"
      ],
      "metadata": {
        "id": "zRlh1306p09J"
      }
    },
    {
      "cell_type": "code",
      "source": [
        "celsius_q = np.array([-40,-10,0,8,15,22,38],dtype=float)\n",
        "fahrenheit_a = np.array([-40,14,32,46,59,72,100],dtype=float)\n",
        "\n",
        "for i,c in enumerate(celsius_q):\n",
        "  print(\"{} degree celcius = {} degree fahrenheit\".format(c,fahrenheit_a[i]))"
      ],
      "metadata": {
        "colab": {
          "base_uri": "https://localhost:8080/"
        },
        "id": "LdkG7XrgpzLT",
        "outputId": "2f91ddb7-ea1a-4c87-c57a-aec72364c4d3"
      },
      "execution_count": 5,
      "outputs": [
        {
          "output_type": "stream",
          "name": "stdout",
          "text": [
            "-40.0 degree celcius = -40.0 degree fahrenheit\n",
            "-10.0 degree celcius = 14.0 degree fahrenheit\n",
            "0.0 degree celcius = 32.0 degree fahrenheit\n",
            "8.0 degree celcius = 46.0 degree fahrenheit\n",
            "15.0 degree celcius = 59.0 degree fahrenheit\n",
            "22.0 degree celcius = 72.0 degree fahrenheit\n",
            "38.0 degree celcius = 100.0 degree fahrenheit\n"
          ]
        }
      ]
    },
    {
      "cell_type": "markdown",
      "source": [
        "creating the model"
      ],
      "metadata": {
        "id": "pnqdn56BrPPU"
      }
    },
    {
      "cell_type": "code",
      "source": [
        "model=tf.keras.Sequential([\n",
        "    tf.keras.layers.Dense(units=1,input_shape=[1])\n",
        "])"
      ],
      "metadata": {
        "id": "9cPgkfPAqojj"
      },
      "execution_count": 6,
      "outputs": []
    },
    {
      "cell_type": "markdown",
      "source": [
        "compiling the model with loss and optimizer functions"
      ],
      "metadata": {
        "id": "OWDTA5SGrmcE"
      }
    },
    {
      "cell_type": "code",
      "source": [
        "model.compile(loss='mean_squared_error',\n",
        "              optimizer=tf.keras.optimizers.Adam(0.1))"
      ],
      "metadata": {
        "id": "Ii5d8xQ4rkxX"
      },
      "execution_count": 13,
      "outputs": []
    },
    {
      "cell_type": "markdown",
      "source": [
        "train the model"
      ],
      "metadata": {
        "id": "CkKlJro1r99n"
      }
    },
    {
      "cell_type": "code",
      "source": [
        "history=model.fit(celsius_q,fahrenheit_a,epochs=500,verbose=False)\n",
        "print(\"Finished training the model\")"
      ],
      "metadata": {
        "colab": {
          "base_uri": "https://localhost:8080/"
        },
        "id": "0RwYzEbFr3Yt",
        "outputId": "963a5b6d-a71b-41c3-ac08-df204b79471f"
      },
      "execution_count": 17,
      "outputs": [
        {
          "output_type": "stream",
          "name": "stdout",
          "text": [
            "Finished training the model\n"
          ]
        }
      ]
    },
    {
      "cell_type": "markdown",
      "source": [
        "display training statistics"
      ],
      "metadata": {
        "id": "NdIKTUZYsii0"
      }
    },
    {
      "cell_type": "code",
      "source": [
        "import matplotlib.pyplot as plt\n",
        "plt.xlabel('Epochs Number')\n",
        "plt.ylabel('Loss Magnitude')\n",
        "plt.plot(history.history['loss'])"
      ],
      "metadata": {
        "colab": {
          "base_uri": "https://localhost:8080/",
          "height": 296
        },
        "id": "5ehCfGU8sTzq",
        "outputId": "15b893f9-ba05-4463-d84a-96723fe63bb6"
      },
      "execution_count": 18,
      "outputs": [
        {
          "output_type": "execute_result",
          "data": {
            "text/plain": [
              "[<matplotlib.lines.Line2D at 0x7f1b896f4d10>]"
            ]
          },
          "metadata": {},
          "execution_count": 18
        },
        {
          "output_type": "display_data",
          "data": {
            "text/plain": [
              "<Figure size 432x288 with 1 Axes>"
            ],
            "image/png": "[encoded data removed]"
          },
          "metadata": {
            "needs_background": "light"
          }
        }
      ]
    },
    {
      "cell_type": "markdown",
      "source": [
        "using the model to predict values"
      ],
      "metadata": {
        "id": "hAYXkbPXtVln"
      }
    },
    {
      "cell_type": "code",
      "source": [
        "print(model.predict([100.0]))"
      ],
      "metadata": {
        "colab": {
          "base_uri": "https://localhost:8080/"
        },
        "id": "m00661Ncs9Yx",
        "outputId": "030fb816-bb32-470c-f11e-093850379f3f"
      },
      "execution_count": 19,
      "outputs": [
        {
          "output_type": "stream",
          "name": "stdout",
          "text": [
            "[[211.74426]]\n"
          ]
        }
      ]
    },
    {
      "cell_type": "code",
      "source": [],
      "metadata": {
        "id": "8_5qQ3OntkMN"
      },
      "execution_count": null,
      "outputs": []
    }
  ]
}